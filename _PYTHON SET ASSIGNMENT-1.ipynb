{
 "cells": [
  {
   "cell_type": "markdown",
   "id": "47c6ee42-6c6f-4034-a650-5c36ea8b6648",
   "metadata": {},
   "source": [
    "## 1. Write a Python program to read an entire text file."
   ]
  },
  {
   "cell_type": "code",
   "execution_count": 4,
   "id": "2f2d9031-dfd1-4046-ab0b-9e86a6b0982c",
   "metadata": {},
   "outputs": [
    {
     "name": "stdin",
     "output_type": "stream",
     "text": [
      "Enter the file name:  sample.txt\n"
     ]
    },
    {
     "name": "stdout",
     "output_type": "stream",
     "text": [
      "File 'sample.txt' not found!\n"
     ]
    }
   ],
   "source": [
    "# Open the file in read mode\n",
    "file_name = input(\"Enter the file name: \")\n",
    "\n",
    "try:\n",
    "    with open(file_name, 'r') as file:\n",
    "        content = file.read()\n",
    "        print(\"Content of the file:\")\n",
    "        print(content)\n",
    "except FileNotFoundError:\n",
    "    print(f\"File '{file_name}' not found!\")\n"
   ]
  },
  {
   "cell_type": "markdown",
   "id": "564d72e1-b8ce-4afa-8b08-5f8cae18ae6c",
   "metadata": {},
   "source": [
    "## 2. Write a Python program to compute the number of characters, words and lines in a file. "
   ]
  },
  {
   "cell_type": "code",
   "execution_count": 7,
   "id": "23b652e6-d3a9-431c-9e49-a44eecb86f29",
   "metadata": {},
   "outputs": [
    {
     "name": "stdin",
     "output_type": "stream",
     "text": [
      "Enter the file name:  sample.txt\n"
     ]
    },
    {
     "name": "stdout",
     "output_type": "stream",
     "text": [
      "File 'sample.txt' not found!\n"
     ]
    }
   ],
   "source": [
    "# Open the file in read mode\n",
    "file_name = input(\"Enter the file name: \")\n",
    "\n",
    "try:\n",
    "    with open(file_name, 'r') as file:\n",
    "        content = file.read()\n",
    "        \n",
    "        # Counting number of characters\n",
    "        num_characters = len(content)\n",
    "        \n",
    "        # Counting number of words\n",
    "        words = content.split()  # Splits the content based on whitespace\n",
    "        num_words = len(words)\n",
    "        \n",
    "        # Counting number of lines\n",
    "        file.seek(0)  # Move the cursor back to the beginning of the file\n",
    "        num_lines = sum(1 for line in file)  # Counts the number of lines\n",
    "        \n",
    "        print(f\"Number of characters: {num_characters}\")\n",
    "        print(f\"Number of words: {num_words}\")\n",
    "        print(f\"Number of lines: {num_lines}\")\n",
    "\n",
    "except FileNotFoundError:\n",
    "    print(f\"File '{file_name}' not found!\")\n"
   ]
  },
  {
   "cell_type": "markdown",
   "id": "6ad9572d-b431-428b-8608-382c47ab539c",
   "metadata": {},
   "source": [
    "## Write a Python script to print the current date in following format “Sun May 29 02:26:23 \n",
    "IST 2017”\n",
    "\n"
   ]
  },
  {
   "cell_type": "code",
   "execution_count": 10,
   "id": "d7d152ab-2243-43cc-a12b-638926d9dc08",
   "metadata": {},
   "outputs": [
    {
     "name": "stdout",
     "output_type": "stream",
     "text": [
      "Tue Dec 24 12:56:12 IST 2024\n"
     ]
    }
   ],
   "source": [
    "import time\n",
    "\n",
    "# Get the current local time\n",
    "current_time = time.localtime()\n",
    "\n",
    "# Format the current time according to the desired format\n",
    "formatted_time = time.strftime(\"%a %b %d %H:%M:%S IST %Y\", current_time)\n",
    "\n",
    "# Print the formatted time\n",
    "print(formatted_time)\n"
   ]
  },
  {
   "cell_type": "markdown",
   "id": "16912943-be6e-446c-8e61-dfcade6b70a3",
   "metadata": {},
   "source": [
    "## 1. Write a Python program to append text to a file and display the text."
   ]
  },
  {
   "cell_type": "code",
   "execution_count": 13,
   "id": "43754baa-7077-4e55-9f49-4938905c211a",
   "metadata": {},
   "outputs": [
    {
     "name": "stdin",
     "output_type": "stream",
     "text": [
      "Enter the file name:  sample.txt\n",
      "Enter the text you want to append:  This is new content being added to the file\n"
     ]
    },
    {
     "name": "stdout",
     "output_type": "stream",
     "text": [
      "\n",
      "Content of the file after appending:\n",
      "This is new content being added to the file\n",
      "\n"
     ]
    }
   ],
   "source": [
    "# Open the file in append mode\n",
    "file_name = input(\"Enter the file name: \")\n",
    "\n",
    "text_to_append = input(\"Enter the text you want to append: \")\n",
    "\n",
    "# Open the file in append mode and write the text\n",
    "try:\n",
    "    with open(file_name, 'a') as file:\n",
    "        file.write(text_to_append + '\\n')  # Appends text with a newline at the end\n",
    "\n",
    "    # Open the file in read mode to display the content\n",
    "    with open(file_name, 'r') as# Open the file in read mode\n",
    "file_name = input(\"Enter the file name: \")\n",
    "\n",
    "try:\n",
    "    with open(file_name, 'r') as file:\n",
    "        lines = file.readlines()  # Read all lines from the file\n",
    "\n",
    "    # Print each line in reverse order\n",
    "    print(\"\\nLines in reverse order:\")\n",
    "    for line in reversed(lines):\n",
    "        print(line.strip())  # Use strip() to remove extra newline characters\n",
    "\n",
    "except FileNotFoundError:\n",
    "    print(f\"File '{file_name}' not found!\")\n",
    " file:\n",
    "        print(\"\\nContent of the file after appending:\")\n",
    "        print(file.read())  # Display the updated content\n",
    "\n",
    "except FileNotFoundError:\n",
    "    print(f\"File '{file_name}' not found!\")\n"
   ]
  },
  {
   "cell_type": "markdown",
   "id": "d95f1b4b-e197-4070-86c0-cc4c8c4503d2",
   "metadata": {},
   "source": [
    "## . Write a Python program to print each line of a file in reverse order. "
   ]
  },
  {
   "cell_type": "code",
   "execution_count": 18,
   "id": "6c5f7f19-8de3-4685-b4a4-3f00096469fc",
   "metadata": {},
   "outputs": [
    {
     "name": "stdin",
     "output_type": "stream",
     "text": [
      "Enter the file name:  example.txt\n"
     ]
    },
    {
     "name": "stdout",
     "output_type": "stream",
     "text": [
      "File 'example.txt' not found!\n"
     ]
    }
   ],
   "source": [
    "# Open the file in read mode\n",
    "file_name = input(\"Enter the file name: \")\n",
    "\n",
    "try:\n",
    "    with open(file_name, 'r') as file:\n",
    "        lines = file.readlines()  # Read all lines from the file\n",
    "\n",
    "    # Print each line in reverse order\n",
    "    print(\"\\nLines in reverse order:\")\n",
    "    for line in reversed(lines):\n",
    "        print(line.strip())  # Use strip() to remove extra newline characters\n",
    "\n",
    "except FileNotFoundError:\n",
    "    print(f\"File '{file_name}' not found!\")\n"
   ]
  },
  {
   "cell_type": "markdown",
   "id": "f9fca678-a101-454e-a00e-ac5c165c1518",
   "metadata": {},
   "source": [
    "## Write a Python program to print date, time for today and now."
   ]
  },
  {
   "cell_type": "code",
   "execution_count": 21,
   "id": "e14ff2e7-a2fc-476d-9a87-7c5f984989bc",
   "metadata": {},
   "outputs": [
    {
     "name": "stdout",
     "output_type": "stream",
     "text": [
      "Today's date and time: 2024-12-24 13:02:06\n",
      "Today's date: 2024-12-24\n",
      "Current time: 13:02:06\n"
     ]
    }
   ],
   "source": [
    "import datetime\n",
    "\n",
    "# Get the current date and time\n",
    "now = datetime.datetime.now()\n",
    "\n",
    "# Print today's date and time\n",
    "print(f\"Today's date and time: {now.strftime('%Y-%m-%d %H:%M:%S')}\")\n",
    "\n",
    "# Print the current date\n",
    "print(f\"Today's date: {now.strftime('%Y-%m-%d')}\")\n",
    "\n",
    "# Print the current time\n",
    "print(f\"Current time: {now.strftime('%H:%M:%S')}\")\n"
   ]
  },
  {
   "cell_type": "markdown",
   "id": "4d19d45c-2a17-49af-8e61-a227de281cc3",
   "metadata": {},
   "source": [
    "## Assignment 2 Solutions\n",
    "SET A\n",
    "1. Demonstrate Zero Division Error and Overflow Error"
   ]
  },
  {
   "cell_type": "code",
   "execution_count": 3,
   "id": "0bfb1d98-07ec-48e1-ae61-dd3c7e3929d8",
   "metadata": {},
   "outputs": [
    {
     "name": "stdout",
     "output_type": "stream",
     "text": [
      "Zero Division Error: division by zero\n",
      "Overflow Error: (34, 'Result too large')\n"
     ]
    }
   ],
   "source": [
    "# Zero Division Error\n",
    "try:\n",
    "    result = 10 / 0\n",
    "except ZeroDivisionError as e:\n",
    "    print(f\"Zero Division Error: {e}\")\n",
    "\n",
    "# Overflow Error (using exponentiation)\n",
    "try:\n",
    "    result = 2.0 ** 100000\n",
    "except OverflowError as e:\n",
    "    print(f\"Overflow Error: {e}\")\n"
   ]
  },
  {
   "cell_type": "markdown",
   "id": "e807d054-526e-406c-983c-ece65f075ba3",
   "metadata": {},
   "source": [
    "## 2. Find sequences of lowercase letters joined with an underscore"
   ]
  },
  {
   "cell_type": "code",
   "execution_count": 6,
   "id": "6d19b401-f628-4557-baff-4fff71a6899f",
   "metadata": {},
   "outputs": [
    {
     "name": "stdout",
     "output_type": "stream",
     "text": [
      "['hello_world', 'example_code']\n"
     ]
    }
   ],
   "source": [
    "import re\n",
    "\n",
    "def find_lowercase_underscore_sequences(text):\n",
    "    pattern = r'[a-z]+_[a-z]+'\n",
    "    return re.findall(pattern, text)\n",
    "\n",
    "text = \"hello_world example_code test_String\"\n",
    "print(find_lowercase_underscore_sequences(text))\n"
   ]
  },
  {
   "cell_type": "markdown",
   "id": "4d3a1130-1063-4a33-9a48-7c23761ec28e",
   "metadata": {},
   "source": [
    "## 3. Check if String Contains Only Defined Characters Using Regex"
   ]
  },
  {
   "cell_type": "code",
   "execution_count": 9,
   "id": "e570eb00-a5a8-4acb-8c7d-fcf6bba00504",
   "metadata": {},
   "outputs": [
    {
     "name": "stdout",
     "output_type": "stream",
     "text": [
      "True\n"
     ]
    }
   ],
   "source": [
    "import re\n",
    "\n",
    "def check_defined_characters(text, allowed_chars):\n",
    "    pattern = f\"^[{allowed_chars}]+$\"\n",
    "    return bool(re.match(pattern, text))\n",
    "\n",
    "text = \"hello123\"\n",
    "allowed_characters = \"a-zA-Z0-9\"\n",
    "print(check_defined_characters(text, allowed_characters))  # True if valid, False otherwise\n"
   ]
  },
  {
   "cell_type": "markdown",
   "id": "209590e3-c52e-4e92-ad5b-b22492aa7ca2",
   "metadata": {},
   "source": [
    "## SET B\n",
    "1. Match a String with Letters, Numbers, and Underscores"
   ]
  },
  {
   "cell_type": "code",
   "execution_count": 12,
   "id": "47bf8be6-5ce9-4ba9-9276-70141f0a3f94",
   "metadata": {},
   "outputs": [
    {
     "name": "stdout",
     "output_type": "stream",
     "text": [
      "True\n"
     ]
    }
   ],
   "source": [
    "import re\n",
    "\n",
    "def match_string(text):\n",
    "    pattern = r'^[A-Za-z0-9_]+$'\n",
    "    return bool(re.match(pattern, text))\n",
    "\n",
    "text = \"valid_string_123\"\n",
    "print(match_string(text))  # True if valid, False otherwise\n"
   ]
  },
  {
   "cell_type": "markdown",
   "id": "7848d059-31b6-42da-9433-cdbe341a127c",
   "metadata": {},
   "source": [
    "## Raise Attribute Error"
   ]
  },
  {
   "cell_type": "code",
   "execution_count": 19,
   "id": "28391812-7cc9-4c71-ba8b-6e431b250a3a",
   "metadata": {},
   "outputs": [
    {
     "name": "stdout",
     "output_type": "stream",
     "text": [
      "Attribute Error: 'TestClass' object has no attribute 'nonexistent_attribute'\n"
     ]
    }
   ],
   "source": [
    "class TestClass:\n",
    "    def __init__(self):\n",
    "        self.name = \"Test\"\n",
    "\n",
    "obj = TestClass()\n",
    "try:\n",
    "    print(obj.nonexistent_attribute)\n",
    "except AttributeError as e:\n",
    "    print(f\"Attribute Error: {e}\")\n"
   ]
  },
  {
   "cell_type": "markdown",
   "id": "2cb22dcd-43a3-4618-bf7d-33d9849d8321",
   "metadata": {},
   "source": [
    "## 2. Remove Duplicate Words from a Sentence"
   ]
  },
  {
   "cell_type": "code",
   "execution_count": 22,
   "id": "14933743-ff0d-4d0d-8aba-05bc8e540a0b",
   "metadata": {},
   "outputs": [
    {
     "name": "stdout",
     "output_type": "stream",
     "text": [
      "This is a test sentence\n"
     ]
    }
   ],
   "source": [
    "def remove_duplicate_words(sentence):\n",
    "    words = sentence.split()\n",
    "    unique_words = []\n",
    "    for word in words:\n",
    "        if word not in unique_words:\n",
    "            unique_words.append(word)\n",
    "    return \" \".join(unique_words)\n",
    "\n",
    "sentence = \"This is is a test test sentence\"\n",
    "print(remove_duplicate_words(sentence))\n"
   ]
  },
  {
   "cell_type": "markdown",
   "id": "d6bc4aa2-52b2-42ee-9c27-262d9077f9bc",
   "metadata": {},
   "source": [
    "## 3. Remove All Characters Except Letters and Numbers"
   ]
  },
  {
   "cell_type": "code",
   "execution_count": 25,
   "id": "bb48f30e-f05f-4d1d-a7da-5a4c0bd9cb43",
   "metadata": {},
   "outputs": [
    {
     "name": "stdout",
     "output_type": "stream",
     "text": [
      "HelloWorld123\n"
     ]
    }
   ],
   "source": [
    "import re\n",
    "\n",
    "def remove_non_alphanumeric(text):\n",
    "    return re.sub(r'[^A-Za-z0-9]', '', text)\n",
    "\n",
    "text = \"Hello@# World123!!\"\n",
    "print(remove_non_alphanumeric(text))  # Output: HelloWorld123\n"
   ]
  },
  {
   "cell_type": "markdown",
   "id": "913dcb9e-57ec-44a3-94a9-5f8d221ad6a9",
   "metadata": {},
   "source": [
    "## Assignment-3 \n",
    "1. Create a child class Bus inheriting from the Vehicle class"
   ]
  },
  {
   "cell_type": "code",
   "execution_count": 28,
   "id": "8c3097fc-5a0a-4385-bcc3-02203d8db530",
   "metadata": {},
   "outputs": [
    {
     "name": "stdout",
     "output_type": "stream",
     "text": [
      "Brand: Volvo, Model: 7900, Year: 2022, Seating Capacity: 50\n"
     ]
    }
   ],
   "source": [
    "class Vehicle:\n",
    "    def __init__(self, brand, model, year):\n",
    "        self.brand = brand\n",
    "        self.model = model\n",
    "        self.year = year\n",
    "\n",
    "    def display_info(self):\n",
    "        return f\"Brand: {self.brand}, Model: {self.model}, Year: {self.year}\"\n",
    "\n",
    "class Bus(Vehicle):\n",
    "    def __init__(self, brand, model, year, seating_capacity):\n",
    "        super().__init__(brand, model, year)\n",
    "        self.seating_capacity = seating_capacity\n",
    "\n",
    "    def display_bus_info(self):\n",
    "        return f\"{self.display_info()}, Seating Capacity: {self.seating_capacity}\"\n",
    "\n",
    "# Example usage\n",
    "bus = Bus(\"Volvo\", \"7900\", 2022, 50)\n",
    "print(bus.display_bus_info())\n"
   ]
  },
  {
   "cell_type": "markdown",
   "id": "b4283556-628c-40f7-b9ae-32a78c575c37",
   "metadata": {},
   "source": [
    "## 2. Define a property with the same value for all class instances"
   ]
  },
  {
   "cell_type": "code",
   "execution_count": 31,
   "id": "f4ad8a44-f8f3-4f8a-9962-f87fb22894b8",
   "metadata": {},
   "outputs": [
    {
     "name": "stdout",
     "output_type": "stream",
     "text": [
      "This value is shared by all instances\n",
      "This value is shared by all instances\n"
     ]
    }
   ],
   "source": [
    "class MyClass:\n",
    "    shared_value = \"This value is shared by all instances\"\n",
    "\n",
    "    def __init__(self, name):\n",
    "        self.name = name\n",
    "\n",
    "# Example usage\n",
    "obj1 = MyClass(\"Object1\")\n",
    "obj2 = MyClass(\"Object2\")\n",
    "print(obj1.shared_value)  # Output: This value is shared by all instances\n",
    "print(obj2.shared_value)  # Output: This value is shared by all instances\n"
   ]
  },
  {
   "cell_type": "markdown",
   "id": "d34fe2a9-c30c-41eb-9e0c-7be6c223871a",
   "metadata": {},
   "source": [
    "## 3. Employee Class"
   ]
  },
  {
   "cell_type": "code",
   "execution_count": 34,
   "id": "7f089d7d-9db7-4175-b58b-47a0c192ba25",
   "metadata": {},
   "outputs": [
    {
     "name": "stdout",
     "output_type": "stream",
     "text": [
      "ID: 1, Name: John Doe, Salary: 51000, Department: HR\n"
     ]
    }
   ],
   "source": [
    "class Employee:\n",
    "    def __init__(self, emp_id, emp_name, emp_salary, emp_department):\n",
    "        self.emp_id = emp_id\n",
    "        self.emp_name = emp_name\n",
    "        self.emp_salary = emp_salary\n",
    "        self.emp_department = emp_department\n",
    "\n",
    "    def calculate_emp_salary(self, hours_worked, hourly_rate):\n",
    "        self.emp_salary += hours_worked * hourly_rate\n",
    "\n",
    "    def emp_assign_department(self, new_department):\n",
    "        self.emp_department = new_department\n",
    "\n",
    "    def print_employee_details(self):\n",
    "        return (f\"ID: {self.emp_id}, Name: {self.emp_name}, \"\n",
    "                f\"Salary: {self.emp_salary}, Department: {self.emp_department}\")\n",
    "\n",
    "# Example usage\n",
    "employee = Employee(1, \"John Doe\", 50000, \"IT\")\n",
    "employee.calculate_emp_salary(20, 50)\n",
    "employee.emp_assign_department(\"HR\")\n",
    "print(employee.print_employee_details())\n"
   ]
  },
  {
   "cell_type": "markdown",
   "id": "61db9fc5-d541-47f4-8aa3-09c42491b49b",
   "metadata": {},
   "source": [
    "## 4. Restaurant Class"
   ]
  },
  {
   "cell_type": "code",
   "execution_count": 37,
   "id": "39beceef-2b7e-4eae-9b6b-4ac504bef717",
   "metadata": {},
   "outputs": [
    {
     "name": "stdout",
     "output_type": "stream",
     "text": [
      "{'Pizza': 10, 'Pasta': 8}\n",
      "[['Pizza', 'Pasta']]\n"
     ]
    }
   ],
   "source": [
    "class Restaurant:\n",
    "    def __init__(self):\n",
    "        self.menu_items = {}\n",
    "        self.booked_tables = 0\n",
    "        self.customer_orders = []\n",
    "\n",
    "    def add_item_to_menu(self, item_name, price):\n",
    "        self.menu_items[item_name] = price\n",
    "\n",
    "    def book_table(self, table_count):\n",
    "        self.booked_tables += table_count\n",
    "\n",
    "    def customer_order(self, order):\n",
    "        self.customer_orders.append(order)\n",
    "\n",
    "# Example usage\n",
    "restaurant = Restaurant()\n",
    "restaurant.add_item_to_menu(\"Pizza\", 10)\n",
    "restaurant.add_item_to_menu(\"Pasta\", 8)\n",
    "restaurant.book_table(2)\n",
    "restaurant.customer_order([\"Pizza\", \"Pasta\"])\n",
    "print(restaurant.menu_items)\n",
    "print(restaurant.customer_orders)\n"
   ]
  },
  {
   "cell_type": "markdown",
   "id": "4439ecb5-63f3-4e81-b506-4ebc4cd2446a",
   "metadata": {},
   "source": [
    "## 5. BankAccount Class"
   ]
  },
  {
   "cell_type": "code",
   "execution_count": 40,
   "id": "e472c7c7-de87-42c7-b406-96dddc40ac10",
   "metadata": {},
   "outputs": [
    {
     "name": "stdout",
     "output_type": "stream",
     "text": [
      "$1000 deposited. New balance: $6000\n",
      "$2000 withdrawn. New balance: $4000\n",
      "Balance: $4000\n"
     ]
    }
   ],
   "source": [
    "class BankAccount:\n",
    "    def __init__(self, account_number, customer_name, balance, date_of_opening):\n",
    "        self.account_number = account_number\n",
    "        self.customer_name = customer_name\n",
    "        self.balance = balance\n",
    "        self.date_of_opening = date_of_opening\n",
    "\n",
    "    def deposit(self, amount):\n",
    "        self.balance += amount\n",
    "        return f\"${amount} deposited. New balance: ${self.balance}\"\n",
    "\n",
    "    def withdraw(self, amount):\n",
    "        if amount > self.balance:\n",
    "            return \"Insufficient funds\"\n",
    "        self.balance -= amount\n",
    "        return f\"${amount} withdrawn. New balance: ${self.balance}\"\n",
    "\n",
    "    def check_balance(self):\n",
    "        return f\"Balance: ${self.balance}\"\n",
    "\n",
    "# Example usage\n",
    "account = BankAccount(\"12345\", \"Alice\", 5000, \"2025-01-01\")\n",
    "print(account.deposit(1000))\n",
    "print(account.withdraw(2000))\n",
    "print(account.check_balance())\n"
   ]
  },
  {
   "cell_type": "markdown",
   "id": "7656c2a5-7863-4aa1-958b-3c84c80791eb",
   "metadata": {},
   "source": [
    "## 6. Inventory Class"
   ]
  },
  {
   "cell_type": "code",
   "execution_count": 43,
   "id": "c67999fc-ceff-4b6b-8d2e-c66378405ad7",
   "metadata": {},
   "outputs": [
    {
     "name": "stdout",
     "output_type": "stream",
     "text": [
      "{'item_name': 'Laptop', 'stock_count': 15, 'price': 1000}\n",
      "Item not found\n"
     ]
    }
   ],
   "source": [
    "class Inventory:\n",
    "    def __init__(self):\n",
    "        self.items = {}\n",
    "\n",
    "    def add_item(self, item_id, item_name, stock_count, price):\n",
    "        self.items[item_id] = {\n",
    "            \"item_name\": item_name,\n",
    "            \"stock_count\": stock_count,\n",
    "            \"price\": price,\n",
    "        }\n",
    "\n",
    "    def update_item(self, item_id, stock_count=None, price=None):\n",
    "        if item_id in self.items:\n",
    "            if stock_count is not None:\n",
    "                self.items[item_id][\"stock_count\"] = stock_count\n",
    "            if price is not None:\n",
    "                self.items[item_id][\"price\"] = price\n",
    "        else:\n",
    "            return \"Item not found\"\n",
    "\n",
    "    def check_item_details(self, item_id):\n",
    "        return self.items.get(item_id, \"Item not found\")\n",
    "\n",
    "# Example usage\n",
    "inventory = Inventory()\n",
    "inventory.add_item(1, \"Laptop\", 10, 1000)\n",
    "inventory.add_item(2, \"Mouse\", 50, 25)\n",
    "inventory.update_item(1, stock_count=15)\n",
    "print(inventory.check_item_details(1))\n",
    "print(inventory.check_item_details(3))\n"
   ]
  },
  {
   "cell_type": "code",
   "execution_count": null,
   "id": "e8325aad-3132-4eaf-8fd8-2addc027134f",
   "metadata": {},
   "outputs": [],
   "source": []
  }
 ],
 "metadata": {
  "kernelspec": {
   "display_name": "Python 3 (ipykernel)",
   "language": "python",
   "name": "python3"
  },
  "language_info": {
   "codemirror_mode": {
    "name": "ipython",
    "version": 3
   },
   "file_extension": ".py",
   "mimetype": "text/x-python",
   "name": "python",
   "nbconvert_exporter": "python",
   "pygments_lexer": "ipython3",
   "version": "3.12.4"
  }
 },
 "nbformat": 4,
 "nbformat_minor": 5
}
