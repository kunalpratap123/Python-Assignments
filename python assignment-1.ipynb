{
 "cells": [
  {
   "cell_type": "markdown",
   "id": "fd779959-7b49-47a2-a46c-5c40faf443bc",
   "metadata": {},
   "source": [
    "## Program to print Hello World\n",
    "\n"
   ]
  },
  {
   "cell_type": "code",
   "execution_count": 1,
   "id": "6238044a-e19a-4cfb-ab08-432c0b0fa59b",
   "metadata": {},
   "outputs": [
    {
     "name": "stdout",
     "output_type": "stream",
     "text": [
      "Hello World\n"
     ]
    }
   ],
   "source": [
    "print(\"Hello World\")"
   ]
  },
  {
   "cell_type": "markdown",
   "id": "19948db4-88e8-4c41-937e-039056dd259a",
   "metadata": {},
   "source": [
    "## Program to print content at the center of the screen without inbuilt functions\n"
   ]
  },
  {
   "cell_type": "code",
   "execution_count": 1,
   "id": "80197f2a-c128-48a4-968e-f407ed97f2ca",
   "metadata": {},
   "outputs": [
    {
     "name": "stdout",
     "output_type": "stream",
     "text": [
      "                               I am a Programmer\n"
     ]
    }
   ],
   "source": [
    "text = \"I am a Programmer\"\n",
    "width = 80  # Assume screen width\n",
    "padding = (width - len(text)) // 2\n",
    "print(\" \" * padding + text)"
   ]
  },
  {
   "cell_type": "markdown",
   "id": "c5e0057a-bef5-41f9-913c-be2a717cc653",
   "metadata": {},
   "source": [
    "## Program to take input of your name and surname and print it\n"
   ]
  },
  {
   "cell_type": "code",
   "execution_count": 1,
   "id": "0e85749b-aa23-4f77-ac0d-3d8a7f1f180d",
   "metadata": {},
   "outputs": [
    {
     "name": "stdin",
     "output_type": "stream",
     "text": [
      "Enter your name:  pton\n",
      "Enter your surname:  p\n"
     ]
    },
    {
     "name": "stdout",
     "output_type": "stream",
     "text": [
      "Your name is pton p\n"
     ]
    }
   ],
   "source": [
    "name = input(\"Enter your name: \")\n",
    "surname = input(\"Enter your surname: \")\n",
    "print(f\"Your name is {name} {surname}\")"
   ]
  },
  {
   "cell_type": "markdown",
   "id": "c8723c54-ef4e-46da-ab31-46a3640c8b96",
   "metadata": {},
   "source": [
    "## Python program to display your name, age, and address\n"
   ]
  },
  {
   "cell_type": "code",
   "execution_count": 8,
   "id": "bbc20813-1d2a-428c-9ffc-d3ac779130bd",
   "metadata": {},
   "outputs": [
    {
     "name": "stdout",
     "output_type": "stream",
     "text": [
      "kunal pratap\n",
      "25\n",
      "BBSR, ODISHA\n"
     ]
    }
   ],
   "source": [
    "name = \"kunal pratap\"\n",
    "age = 25\n",
    "address = \"BBSR, ODISHA\"\n",
    "print(name)\n",
    "print(age)\n",
    "print(address)"
   ]
  },
  {
   "cell_type": "markdown",
   "id": "9650cb1e-32b3-4877-9d2c-c085a4f09ff0",
   "metadata": {},
   "source": [
    "## Program to show list of keywords and check its length\n"
   ]
  },
  {
   "cell_type": "code",
   "execution_count": 11,
   "id": "ffad8389-13cc-4e33-9906-5e641270f37a",
   "metadata": {},
   "outputs": [
    {
     "name": "stdout",
     "output_type": "stream",
     "text": [
      "Keywords in Python: ['False', 'None', 'True', 'and', 'as', 'assert', 'async', 'await', 'break', 'class', 'continue', 'def', 'del', 'elif', 'else', 'except', 'finally', 'for', 'from', 'global', 'if', 'import', 'in', 'is', 'lambda', 'nonlocal', 'not', 'or', 'pass', 'raise', 'return', 'try', 'while', 'with', 'yield']\n",
      "Total number of keywords: 35\n"
     ]
    }
   ],
   "source": [
    "import keyword\n",
    "keywords = keyword.kwlist\n",
    "print(\"Keywords in Python:\", keywords)\n",
    "print(\"Total number of keywords:\", len(keywords))\n"
   ]
  },
  {
   "cell_type": "markdown",
   "id": "c4ab4924-15e5-425e-961d-dca9e3be7ff9",
   "metadata": {},
   "source": [
    "## Python program to find Python version"
   ]
  },
  {
   "cell_type": "code",
   "execution_count": 14,
   "id": "c523a85e-6cad-42d4-84d5-c14b807460bf",
   "metadata": {},
   "outputs": [
    {
     "name": "stdout",
     "output_type": "stream",
     "text": [
      "Python version: 3.12.4 | packaged by Anaconda, Inc. | (main, Jun 18 2024, 15:03:56) [MSC v.1929 64 bit (AMD64)]\n"
     ]
    }
   ],
   "source": [
    "import sys\n",
    "print(\"Python version:\", sys.version)\n"
   ]
  },
  {
   "cell_type": "markdown",
   "id": "59eea1df-07de-41e2-aba4-a7cfbb6739e4",
   "metadata": {},
   "source": [
    "## Program to view and print only the docstring"
   ]
  },
  {
   "cell_type": "code",
   "execution_count": 17,
   "id": "afc7b658-58f5-4dba-891c-bf7e959fc661",
   "metadata": {},
   "outputs": [
    {
     "name": "stdout",
     "output_type": "stream",
     "text": [
      "This is a general function for performing numerous functions on two numbers.\n"
     ]
    }
   ],
   "source": [
    "def fun(num1, num2):\n",
    "    \"\"\"This is a general function for performing numerous functions on two numbers.\"\"\"\n",
    "    pass\n",
    "\n",
    "print(fun.__doc__)\n"
   ]
  },
  {
   "cell_type": "markdown",
   "id": "1cc44d35-c9ed-4cc1-8e1b-c06034200333",
   "metadata": {},
   "source": [
    "## Program to swap two variables without using a third variable or loops\n"
   ]
  },
  {
   "cell_type": "code",
   "execution_count": 20,
   "id": "518c6a26-a0a9-474a-9d20-8e5b486b0d59",
   "metadata": {},
   "outputs": [
    {
     "name": "stdout",
     "output_type": "stream",
     "text": [
      "After swapping:\n",
      "a = 10\n",
      "b = 7\n"
     ]
    }
   ],
   "source": [
    "a = 7\n",
    "b = 10\n",
    "a, b = b, a\n",
    "print(\"After swapping:\")\n",
    "print(\"a =\", a)\n",
    "print(\"b =\", b)"
   ]
  },
  {
   "cell_type": "markdown",
   "id": "fd508f19-0aec-4bb9-9e38-587bf2320cba",
   "metadata": {},
   "source": [
    "## Program to find the length of the name entered by the user"
   ]
  },
  {
   "cell_type": "code",
   "execution_count": 23,
   "id": "9ecb9d5e-ac3e-461e-90cf-ec26f34352ba",
   "metadata": {},
   "outputs": [
    {
     "name": "stdin",
     "output_type": "stream",
     "text": [
      "Enter your name:  ppppp\n"
     ]
    },
    {
     "name": "stdout",
     "output_type": "stream",
     "text": [
      "Length of your name: 5\n"
     ]
    }
   ],
   "source": [
    "name = input(\"Enter your name: \")\n",
    "print(\"Length of your name:\", len(name))\n"
   ]
  },
  {
   "cell_type": "markdown",
   "id": "e6e0d995-4041-493f-afca-9615f731a912",
   "metadata": {},
   "source": [
    "## Program to print the following"
   ]
  },
  {
   "cell_type": "code",
   "execution_count": 26,
   "id": "2b8541bc-4ac4-46d3-81a7-8c5bf36ab2d0",
   "metadata": {},
   "outputs": [
    {
     "name": "stdin",
     "output_type": "stream",
     "text": [
      "Enter your name:  pppp\n"
     ]
    },
    {
     "name": "stdout",
     "output_type": "stream",
     "text": [
      "***********\n",
      "*   pppp  *\n",
      "***********\n"
     ]
    }
   ],
   "source": [
    "name = input(\"Enter your name: \")\n",
    "print(\"***********\")\n",
    "print(f\"*{name.center(9)}*\")\n",
    "print(\"***********\")"
   ]
  },
  {
   "cell_type": "code",
   "execution_count": null,
   "id": "47f2534e-bb5f-4035-8118-94a238c10f8a",
   "metadata": {},
   "outputs": [],
   "source": []
  }
 ],
 "metadata": {
  "kernelspec": {
   "display_name": "Python 3 (ipykernel)",
   "language": "python",
   "name": "python3"
  },
  "language_info": {
   "codemirror_mode": {
    "name": "ipython",
    "version": 3
   },
   "file_extension": ".py",
   "mimetype": "text/x-python",
   "name": "python",
   "nbconvert_exporter": "python",
   "pygments_lexer": "ipython3",
   "version": "3.12.4"
  }
 },
 "nbformat": 4,
 "nbformat_minor": 5
}
