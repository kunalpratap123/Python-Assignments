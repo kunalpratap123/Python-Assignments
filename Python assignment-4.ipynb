{
 "cells": [
  {
   "cell_type": "markdown",
   "id": "962ce3ce-3113-465b-a9f0-7e5ced802627",
   "metadata": {},
   "source": [
    "## 1. Remove characters with odd index values from a string"
   ]
  },
  {
   "cell_type": "code",
   "execution_count": 3,
   "id": "f7c43952-a1b9-47b1-ab61-15eb4e44cd25",
   "metadata": {},
   "outputs": [
    {
     "name": "stdin",
     "output_type": "stream",
     "text": [
      "Enter a string:  kunal\n"
     ]
    },
    {
     "name": "stdout",
     "output_type": "stream",
     "text": [
      "String after removing odd index characters: knl\n"
     ]
    }
   ],
   "source": [
    "string = input(\"Enter a string: \")\n",
    "result = string[::2]\n",
    "print(f\"String after removing odd index characters: {result}\")\n"
   ]
  },
  {
   "cell_type": "markdown",
   "id": "7fc5177f-eaaa-4ef4-951b-daf085f68e84",
   "metadata": {},
   "source": [
    "## 2. Count strings where length >= 2 and first/last characters are the same"
   ]
  },
  {
   "cell_type": "code",
   "execution_count": 6,
   "id": "6a5e4205-dd93-48fa-8ab8-a6d9f9fc503c",
   "metadata": {},
   "outputs": [
    {
     "name": "stdout",
     "output_type": "stream",
     "text": [
      "Count of such strings: 2\n"
     ]
    }
   ],
   "source": [
    "strings = [\"abc\", \"xyz\", \"aba\", \"1221\"]\n",
    "count = sum(1 for s in strings if len(s) >= 2 and s[0] == s[-1])\n",
    "print(f\"Count of such strings: {count}\")\n"
   ]
  },
  {
   "cell_type": "markdown",
   "id": "82bc552c-6086-4936-8f90-a4898dd31500",
   "metadata": {},
   "source": [
    "## 3. Check if a number is within 100 of 1000 or 2000"
   ]
  },
  {
   "cell_type": "code",
   "execution_count": 15,
   "id": "0225185e-569e-41bf-bd67-3f2e1dcfbf6d",
   "metadata": {},
   "outputs": [
    {
     "name": "stdin",
     "output_type": "stream",
     "text": [
      "Enter a number:  950\n"
     ]
    },
    {
     "name": "stdout",
     "output_type": "stream",
     "text": [
      "The number is within 100 of 1000 or 2000\n"
     ]
    }
   ],
   "source": [
    "num = int(input(\"Enter a number: \"))\n",
    "if abs(1000 - num) <= 100 or abs(2000 - num) <= 100:\n",
    "    print(\"The number is within 100 of 1000 or 2000\")\n",
    "else:\n",
    "    print(\"The number is not within 100 of 1000 or 2000\")\n"
   ]
  },
  {
   "cell_type": "markdown",
   "id": "3775e6af-b6ef-4031-865e-2edcfe774721",
   "metadata": {},
   "source": [
    "## 4. Determine if a number is even or odd"
   ]
  },
  {
   "cell_type": "code",
   "execution_count": 20,
   "id": "ca886544-fcf2-4ea9-899c-c7a58c143666",
   "metadata": {},
   "outputs": [
    {
     "name": "stdin",
     "output_type": "stream",
     "text": [
      "Enter a number:  45\n"
     ]
    },
    {
     "name": "stdout",
     "output_type": "stream",
     "text": [
      "The number is odd\n"
     ]
    }
   ],
   "source": [
    "num = int(input(\"Enter a number: \"))\n",
    "if num % 2 == 0:\n",
    "    print(\"The number is even\")\n",
    "else:\n",
    "    print(\"The number is odd\")\n"
   ]
  },
  {
   "cell_type": "markdown",
   "id": "e9ec3a2d-9e39-4c76-9a1e-e92bcefc5a2c",
   "metadata": {},
   "source": [
    "## 5. Check if a letter is a vowel"
   ]
  },
  {
   "cell_type": "code",
   "execution_count": 27,
   "id": "03e8bcd6-2217-43a7-9d2f-5afebc03cde5",
   "metadata": {},
   "outputs": [
    {
     "name": "stdin",
     "output_type": "stream",
     "text": [
      "Enter a letter:  k\n"
     ]
    },
    {
     "name": "stdout",
     "output_type": "stream",
     "text": [
      "The letter is not a vowel\n"
     ]
    }
   ],
   "source": [
    "letter = input(\"Enter a letter: \").lower()\n",
    "if letter in 'aeiou':\n",
    "    print(\"The letter is a vowel\")\n",
    "else:\n",
    "    print(\"The letter is not a vowel\")\n"
   ]
  },
  {
   "cell_type": "markdown",
   "id": "69d4d8cc-80f0-4db3-9a07-b3f45e43f4c7",
   "metadata": {},
   "source": [
    "## 6. Determine class based on percentage"
   ]
  },
  {
   "cell_type": "code",
   "execution_count": 34,
   "id": "b399034c-b1f0-45d2-96d1-8de525ea7a57",
   "metadata": {},
   "outputs": [
    {
     "name": "stdin",
     "output_type": "stream",
     "text": [
      "Enter marks percentage:  65\n"
     ]
    },
    {
     "name": "stdout",
     "output_type": "stream",
     "text": [
      "Merit\n"
     ]
    }
   ],
   "source": [
    "marks = int(input(\"Enter marks percentage: \"))\n",
    "if marks >= 70:\n",
    "    print(\"Distinction\")\n",
    "elif 60 <= marks < 70:\n",
    "    print(\"Merit\")\n",
    "elif 40 <= marks < 60:\n",
    "    print(\"Pass\")\n",
    "else:\n",
    "    print(\"Fail\")\n"
   ]
  },
  {
   "cell_type": "markdown",
   "id": "1fe96f83-f71c-4397-8f0f-8f2665c7a81a",
   "metadata": {},
   "source": [
    "## 7. Check if a number is a multiple of 5"
   ]
  },
  {
   "cell_type": "code",
   "execution_count": 37,
   "id": "45bf8c2a-92e0-4c82-a680-9251382dea29",
   "metadata": {},
   "outputs": [
    {
     "name": "stdin",
     "output_type": "stream",
     "text": [
      "Enter a number:  45\n"
     ]
    },
    {
     "name": "stdout",
     "output_type": "stream",
     "text": [
      "The number is a multiple of 5\n"
     ]
    }
   ],
   "source": [
    "num = int(input(\"Enter a number: \"))\n",
    "if num % 5 == 0:\n",
    "    print(\"The number is a multiple of 5\")\n",
    "else:\n",
    "    print(\"The number is not a multiple of 5\")\n"
   ]
  },
  {
   "cell_type": "markdown",
   "id": "9091c0d9-f960-4de1-bcb2-c04f9a7b0473",
   "metadata": {},
   "source": [
    "## 8. Generate an error message if input is not a number"
   ]
  },
  {
   "cell_type": "code",
   "execution_count": 40,
   "id": "f149cab5-7032-4d68-9116-d86ae7a57e77",
   "metadata": {},
   "outputs": [
    {
     "name": "stdin",
     "output_type": "stream",
     "text": [
      "Enter a number:  46\n"
     ]
    },
    {
     "name": "stdout",
     "output_type": "stream",
     "text": [
      "You entered the number: 46.0\n"
     ]
    }
   ],
   "source": [
    "try:\n",
    "    num = float(input(\"Enter a number: \"))\n",
    "    print(f\"You entered the number: {num}\")\n",
    "except ValueError:\n",
    "    print(\"Error: Input is not a number\")\n"
   ]
  },
  {
   "cell_type": "markdown",
   "id": "3a6847cc-c267-4066-8f61-cfbb411fcffd",
   "metadata": {},
   "source": [
    "## 9. Check if a year is a leap year"
   ]
  },
  {
   "cell_type": "code",
   "execution_count": 43,
   "id": "e824d627-e6d6-42b6-ba27-d32695d4fe0d",
   "metadata": {},
   "outputs": [
    {
     "name": "stdin",
     "output_type": "stream",
     "text": [
      "Enter a year:  2024\n"
     ]
    },
    {
     "name": "stdout",
     "output_type": "stream",
     "text": [
      "2024 is a leap year\n"
     ]
    }
   ],
   "source": [
    "year = int(input(\"Enter a year: \"))\n",
    "if (year % 4 == 0 and year % 100 != 0) or (year % 400 == 0):\n",
    "    print(f\"{year} is a leap year\")\n",
    "else:\n",
    "    print(f\"{year} is not a leap year\")\n"
   ]
  },
  {
   "cell_type": "markdown",
   "id": "dff16aca-dc07-44ee-9fc1-b02618799a59",
   "metadata": {},
   "source": [
    "## 10. Find the greatest of three numbers"
   ]
  },
  {
   "cell_type": "code",
   "execution_count": 46,
   "id": "db94b4a6-81bc-4b17-bdf6-f1da38481ebf",
   "metadata": {},
   "outputs": [
    {
     "name": "stdin",
     "output_type": "stream",
     "text": [
      "Enter first number:  5\n",
      "Enter second number:  7\n",
      "Enter third number:  9\n"
     ]
    },
    {
     "name": "stdout",
     "output_type": "stream",
     "text": [
      "The greatest number is: 9\n"
     ]
    }
   ],
   "source": [
    "a = int(input(\"Enter first number: \"))\n",
    "b = int(input(\"Enter second number: \"))\n",
    "c = int(input(\"Enter third number: \"))\n",
    "print(f\"The greatest number is: {max(a, b, c)}\")\n"
   ]
  },
  {
   "cell_type": "markdown",
   "id": "e84d7835-0650-4a3a-a33a-2c9eb737fa9b",
   "metadata": {},
   "source": [
    "## 11. Display day name based on number\n"
   ]
  },
  {
   "cell_type": "code",
   "execution_count": 49,
   "id": "2602f681-5b4c-453f-809f-77fb5dc63ef0",
   "metadata": {},
   "outputs": [
    {
     "name": "stdin",
     "output_type": "stream",
     "text": [
      "Enter a day number (1-7):  5\n"
     ]
    },
    {
     "name": "stdout",
     "output_type": "stream",
     "text": [
      "The day is Thursday\n"
     ]
    }
   ],
   "source": [
    "days = [\"Sunday\", \"Monday\", \"Tuesday\", \"Wednesday\", \"Thursday\", \"Friday\", \"Saturday\"]\n",
    "day_number = int(input(\"Enter a day number (1-7): \"))\n",
    "if 1 <= day_number <= 7:\n",
    "    print(f\"The day is {days[day_number - 1]}\")\n",
    "else:\n",
    "    print(\"Invalid day number\")\n"
   ]
  },
  {
   "cell_type": "markdown",
   "id": "94849430-ef9f-46d8-8bb3-89afa2ac85f3",
   "metadata": {},
   "source": [
    "## 12. Display number of days in a month"
   ]
  },
  {
   "cell_type": "code",
   "execution_count": 52,
   "id": "4dff7d1a-5dc3-4012-a7b7-9a713ce5d1c2",
   "metadata": {},
   "outputs": [
    {
     "name": "stdin",
     "output_type": "stream",
     "text": [
      "Enter a month number (1-12):  6\n"
     ]
    },
    {
     "name": "stdout",
     "output_type": "stream",
     "text": [
      "30 days\n"
     ]
    }
   ],
   "source": [
    "month = int(input(\"Enter a month number (1-12): \"))\n",
    "if month in [1, 3, 5, 7, 8, 10, 12]:\n",
    "    print(\"31 days\")\n",
    "elif month in [4, 6, 9, 11]:\n",
    "    print(\"30 days\")\n",
    "elif month == 2:\n",
    "    print(\"28 or 29 days (depending on the year)\")\n",
    "else:\n",
    "    print(\"Invalid month number\")\n"
   ]
  },
  {
   "cell_type": "markdown",
   "id": "c223d7e4-d162-40a6-af3a-404728951549",
   "metadata": {},
   "source": [
    "## 13. Menu-driven calculator"
   ]
  },
  {
   "cell_type": "code",
   "execution_count": 59,
   "id": "e73f8dce-24d7-4877-b2df-239898146f85",
   "metadata": {},
   "outputs": [
    {
     "name": "stdout",
     "output_type": "stream",
     "text": [
      "Menu:\n",
      "1. Add\n",
      "2. Subtract\n",
      "3. Multiply\n",
      "4. Divide\n"
     ]
    },
    {
     "name": "stdin",
     "output_type": "stream",
     "text": [
      "Enter your choice:  2\n",
      "Enter first number:  6\n",
      "Enter second number:  8\n"
     ]
    },
    {
     "name": "stdout",
     "output_type": "stream",
     "text": [
      "Result: -2.0\n"
     ]
    }
   ],
   "source": [
    "def calculator():\n",
    "    print(\"Menu:\")\n",
    "    print(\"1. Add\")\n",
    "    print(\"2. Subtract\")\n",
    "    print(\"3. Multiply\")\n",
    "    print(\"4. Divide\")\n",
    "    choice = int(input(\"Enter your choice: \"))\n",
    "    a = float(input(\"Enter first number: \"))\n",
    "    b = float(input(\"Enter second number: \"))\n",
    "\n",
    "    if choice == 1:\n",
    "        print(f\"Result: {a + b}\")\n",
    "    elif choice == 2:\n",
    "        print(f\"Result: {a - b}\")\n",
    "    elif choice == 3:\n",
    "        print(f\"Result: {a * b}\")\n",
    "    elif choice == 4:\n",
    "        if b != 0:\n",
    "            print(f\"Result: {a / b}\")\n",
    "        else:\n",
    "            print(\"Division by zero is not allowed\")\n",
    "    else:\n",
    "        print(\"Invalid choice\")\n",
    "\n",
    "calculator()\n"
   ]
  },
  {
   "cell_type": "markdown",
   "id": "0c133fa3-d79e-4e9f-b3b2-5bcb037795d2",
   "metadata": {},
   "source": [
    "## 14. Calculate payable amount with discount"
   ]
  },
  {
   "cell_type": "code",
   "execution_count": 62,
   "id": "58e53a2d-0f84-44de-bbf6-deced40d3f7c",
   "metadata": {},
   "outputs": [
    {
     "name": "stdin",
     "output_type": "stream",
     "text": [
      "Enter the purchase amount:  5000\n"
     ]
    },
    {
     "name": "stdout",
     "output_type": "stream",
     "text": [
      "Amount payable after discount: 4600.00\n"
     ]
    }
   ],
   "source": [
    "purchase_amount = float(input(\"Enter the purchase amount: \"))\n",
    "if purchase_amount >= 8000:\n",
    "    discount = 0.10\n",
    "elif purchase_amount >= 5000:\n",
    "    discount = 0.08\n",
    "elif purchase_amount >= 1000:\n",
    "    discount = 0.04\n",
    "else:\n",
    "    discount = 100 / purchase_amount\n",
    "\n",
    "payable = purchase_amount * (1 - discount)\n",
    "print(f\"Amount payable after discount: {payable:.2f}\")\n"
   ]
  },
  {
   "cell_type": "markdown",
   "id": "4e8f4095-0f19-4b85-84e6-4f19c0c88c56",
   "metadata": {},
   "source": [
    "## 15. Calculate total salary with HRA, DA, and TA"
   ]
  },
  {
   "cell_type": "code",
   "execution_count": 67,
   "id": "560ad007-4cd1-41c9-abfd-6792e070f806",
   "metadata": {},
   "outputs": [
    {
     "name": "stdin",
     "output_type": "stream",
     "text": [
      "Enter basic salary:  10000\n"
     ]
    },
    {
     "name": "stdout",
     "output_type": "stream",
     "text": [
      "Total salary: 12300.00\n"
     ]
    }
   ],
   "source": [
    "basic_salary = float(input(\"Enter basic salary: \"))\n",
    "if basic_salary >= 10000:\n",
    "    hra = 0.08 * basic_salary\n",
    "    da = 0.07 * basic_salary\n",
    "    ta = 0.08 * basic_salary\n",
    "elif basic_salary >= 5000:\n",
    "    hra = 0.06 * basic_salary\n",
    "    da = 0.05 * basic_salary\n",
    "    ta = 0.07 * basic_salary\n",
    "else:\n",
    "    hra = 0.05 * basic_salary\n",
    "    da = 0.05 * basic_salary\n",
    "    ta = 0.07 * basic_salary\n",
    "\n",
    "total_salary = basic_salary + hra + da + ta\n",
    "print(f\"Total salary: {total_salary:.2f}\")\n"
   ]
  },
  {
   "cell_type": "code",
   "execution_count": null,
   "id": "94e6e1fd-dec6-470d-aeda-2b68d829d0c5",
   "metadata": {},
   "outputs": [],
   "source": []
  }
 ],
 "metadata": {
  "kernelspec": {
   "display_name": "Python 3 (ipykernel)",
   "language": "python",
   "name": "python3"
  },
  "language_info": {
   "codemirror_mode": {
    "name": "ipython",
    "version": 3
   },
   "file_extension": ".py",
   "mimetype": "text/x-python",
   "name": "python",
   "nbconvert_exporter": "python",
   "pygments_lexer": "ipython3",
   "version": "3.12.4"
  }
 },
 "nbformat": 4,
 "nbformat_minor": 5
}
