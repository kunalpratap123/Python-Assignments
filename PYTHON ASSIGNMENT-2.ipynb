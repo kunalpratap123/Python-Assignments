{
 "cells": [
  {
   "cell_type": "markdown",
   "id": "4e2a0556-3b2d-4ae8-819a-b33b8438d84c",
   "metadata": {},
   "source": [
    "## Write a program to convert Rupees into dollars entered by user "
   ]
  },
  {
   "cell_type": "code",
   "execution_count": 5,
   "id": "c479cc21-8851-4ff9-a3ce-700942299910",
   "metadata": {},
   "outputs": [
    {
     "name": "stdin",
     "output_type": "stream",
     "text": [
      "Enter amount in Rupees:  1000\n"
     ]
    },
    {
     "name": "stdout",
     "output_type": "stream",
     "text": [
      "1000.0 Rupees is equal to 12.12 Dollars\n"
     ]
    }
   ],
   "source": [
    "rupees = float(input(\"Enter amount in Rupees: \"))\n",
    "conversion_rate = 82.50  # Example: 1 USD = 82.50 INR\n",
    "dollars = rupees / conversion_rate\n",
    "print(f\"{rupees} Rupees is equal to {dollars:.2f} Dollars\")\n",
    "\n"
   ]
  },
  {
   "cell_type": "markdown",
   "id": "697a7b4b-9fea-481c-bede-047e8d6111e1",
   "metadata": {},
   "source": [
    "## Calculate the area of circle, triangle, rectangle and square"
   ]
  },
  {
   "cell_type": "code",
   "execution_count": 16,
   "id": "3790fd92-68e0-4d46-a8d9-8204c9c13a97",
   "metadata": {},
   "outputs": [
    {
     "name": "stdin",
     "output_type": "stream",
     "text": [
      "Enter radius of the circle:  7\n"
     ]
    },
    {
     "name": "stdout",
     "output_type": "stream",
     "text": [
      "Area of circle: 153.94\n"
     ]
    },
    {
     "name": "stdin",
     "output_type": "stream",
     "text": [
      "Enter base of the triangle:  10\n",
      "Enter height of the triangle:  5\n"
     ]
    },
    {
     "name": "stdout",
     "output_type": "stream",
     "text": [
      "Area of triangle: 25.00\n"
     ]
    },
    {
     "name": "stdin",
     "output_type": "stream",
     "text": [
      "Enter length of the rectangle:  8\n",
      "Enter width of the rectangle:  4\n"
     ]
    },
    {
     "name": "stdout",
     "output_type": "stream",
     "text": [
      "Area of rectangle: 32.00\n"
     ]
    },
    {
     "name": "stdin",
     "output_type": "stream",
     "text": [
      "Enter side of the square:  5\n"
     ]
    },
    {
     "name": "stdout",
     "output_type": "stream",
     "text": [
      "Area of square: 25.00\n"
     ]
    }
   ],
   "source": [
    "import math\n",
    "\n",
    "# Circle\n",
    "radius = float(input(\"Enter radius of the circle: \"))\n",
    "circle_area = math.pi * radius ** 2\n",
    "print(f\"Area of circle: {circle_area:.2f}\")\n",
    "\n",
    "# Triangle\n",
    "base = float(input(\"Enter base of the triangle: \"))\n",
    "height = float(input(\"Enter height of the triangle: \"))\n",
    "triangle_area = 0.5 * base * height\n",
    "print(f\"Area of triangle: {triangle_area:.2f}\")\n",
    "\n",
    "# Rectangle\n",
    "length = float(input(\"Enter length of the rectangle: \"))\n",
    "width = float(input(\"Enter width of the rectangle: \"))\n",
    "rectangle_area = length * width\n",
    "print(f\"Area of rectangle: {rectangle_area:.2f}\")\n",
    "\n",
    "# Square\n",
    "side = float(input(\"Enter side of the square: \"))\n",
    "square_area = side ** 2\n",
    "print(f\"Area of square: {square_area:.2f}\")\n"
   ]
  },
  {
   "cell_type": "markdown",
   "id": "313e4974-5c0f-4b6a-a941-13328003b756",
   "metadata": {},
   "source": [
    "## Compute n + nn + nnn for -5 and check if greater than 600\n"
   ]
  },
  {
   "cell_type": "code",
   "execution_count": 28,
   "id": "893978f8-427d-4f10-824e-662fcc7ea0e6",
   "metadata": {},
   "outputs": [
    {
     "name": "stdout",
     "output_type": "stream",
     "text": [
      "The computed value is -615\n",
      "The result is not greater than 600\n"
     ]
    }
   ],
   "source": [
    "n = -5\n",
    "result = n + int(str(abs(n)) * 2) * (-1) + int(str(abs(n)) * 3) * (-1)\n",
    "print(f\"The computed value is {result}\")\n",
    "if result > 600:\n",
    "    print(\"The result is greater than 600\")\n",
    "else:\n",
    "    print(\"The result is not greater than 600\")\n"
   ]
  },
  {
   "cell_type": "markdown",
   "id": "83386bd1-8ee2-465b-8b24-e5998d5902ab",
   "metadata": {},
   "source": [
    "## Translate Boolean Statements"
   ]
  },
  {
   "cell_type": "code",
   "execution_count": 31,
   "id": "f44f2ba3-ce28-4777-a59e-beb99f4b9373",
   "metadata": {},
   "outputs": [
    {
     "name": "stdout",
     "output_type": "stream",
     "text": [
      "False\n",
      "61 fits 71 times into 4356\n",
      "True\n",
      "True\n"
     ]
    }
   ],
   "source": [
    "# a. The sum of 2 and 2 is less than 4\n",
    "print((2 + 2) < 4)\n",
    "\n",
    "# b. How many times multiplying 61 makes 4356\n",
    "result = 4356 // 61\n",
    "print(f\"61 fits {result} times into 4356\")\n",
    "\n",
    "# c. The sum of 3 squared and 4 squared is equal to 25\n",
    "print((3**2 + 4**2) == 25)\n",
    "\n",
    "# d. 1387 is divisible by 19\n",
    "print(1387 % 19 == 0)\n"
   ]
  },
  {
   "cell_type": "markdown",
   "id": "ee523040-438c-4689-abcd-9f4b062de6f6",
   "metadata": {},
   "source": [
    "## Check if the rolled die number is between 1 and 6\n",
    "\n"
   ]
  },
  {
   "cell_type": "code",
   "execution_count": 34,
   "id": "1f802576-b241-49c7-a2b5-931099d83c31",
   "metadata": {},
   "outputs": [
    {
     "name": "stdin",
     "output_type": "stream",
     "text": [
      "Enter the number rolled on the die:  6\n"
     ]
    },
    {
     "name": "stdout",
     "output_type": "stream",
     "text": [
      "The number is valid.\n"
     ]
    }
   ],
   "source": [
    "die_roll = int(input(\"Enter the number rolled on the die: \"))\n",
    "if 1 <= die_roll <= 6:\n",
    "    print(\"The number is valid.\")\n",
    "else:\n",
    "    print(\"The number is invalid.\")\n"
   ]
  },
  {
   "cell_type": "markdown",
   "id": "f986e943-ea76-4bb8-9592-6310ef19616a",
   "metadata": {},
   "source": [
    "## Write a program that checks if the given year is leap and not multiple of 100 or is a multiple of 400"
   ]
  },
  {
   "cell_type": "code",
   "execution_count": 37,
   "id": "4106ae3f-3381-4744-8acf-144e6ca18dcb",
   "metadata": {},
   "outputs": [
    {
     "name": "stdin",
     "output_type": "stream",
     "text": [
      "Enter a year:  2024\n"
     ]
    },
    {
     "name": "stdout",
     "output_type": "stream",
     "text": [
      "2024 is a leap year\n"
     ]
    }
   ],
   "source": [
    "year = int(input(\"Enter a year: \"))\n",
    "if (year % 4 == 0 and year % 100 != 0) or (year % 400 == 0):\n",
    "    print(f\"{year} is a leap year\")\n",
    "else:\n",
    "    print(f\"{year} is not a leap year\")\n"
   ]
  },
  {
   "cell_type": "markdown",
   "id": "b9e80d70-8afd-44c8-a8e8-e7d0830b0dec",
   "metadata": {},
   "source": [
    "## Check if the given number is multiple of 4 using bitwise And operator"
   ]
  },
  {
   "cell_type": "code",
   "execution_count": 40,
   "id": "e23677f6-b4e2-4286-a75b-a11f68b55ad0",
   "metadata": {},
   "outputs": [
    {
     "name": "stdin",
     "output_type": "stream",
     "text": [
      "Enter a number:  4\n"
     ]
    },
    {
     "name": "stdout",
     "output_type": "stream",
     "text": [
      "4 is a multiple of 4\n"
     ]
    }
   ],
   "source": [
    "number = int(input(\"Enter a number: \"))\n",
    "if number & 3 == 0:\n",
    "    print(f\"{number} is a multiple of 4\")\n",
    "else:\n",
    "    print(f\"{number} is not a multiple of 4\")\n"
   ]
  },
  {
   "cell_type": "markdown",
   "id": "c5c952a0-22ee-423e-83fd-2a9ba5eadb17",
   "metadata": {},
   "source": [
    "## Write a program to get the compliment number of user input"
   ]
  },
  {
   "cell_type": "code",
   "execution_count": 46,
   "id": "d422ae25-146a-44b6-8310-33d76c875346",
   "metadata": {},
   "outputs": [
    {
     "name": "stdin",
     "output_type": "stream",
     "text": [
      "Enter a number:  16\n"
     ]
    },
    {
     "name": "stdout",
     "output_type": "stream",
     "text": [
      "The complement of 16 is -17\n"
     ]
    }
   ],
   "source": [
    "number = int(input(\"Enter a number: \"))\n",
    "complement = ~number\n",
    "print(f\"The complement of {number} is {complement}\")\n"
   ]
  },
  {
   "cell_type": "markdown",
   "id": "28132f54-4eb1-4809-9f3f-7dcdd38ae869",
   "metadata": {},
   "source": [
    "## Write a program to create number 80 using bitwise left shift operator of a number"
   ]
  },
  {
   "cell_type": "code",
   "execution_count": 48,
   "id": "5773cbb2-dfd0-4de9-a533-5a002070bb4e",
   "metadata": {},
   "outputs": [
    {
     "name": "stdout",
     "output_type": "stream",
     "text": [
      "The result of left shifting 10 by 3 bits is 80\n"
     ]
    }
   ],
   "source": [
    "num = 10  # Starting number\n",
    "result = num << 3  # Left shift by 3 bits (10 * 2^3 = 80)\n",
    "print(f\"The result of left shifting {num} by 3 bits is {result}\")\n"
   ]
  },
  {
   "cell_type": "markdown",
   "id": "fa6db420-9bca-4bcd-8762-b756ef01731a",
   "metadata": {},
   "source": [
    "## Write a program to check if “.com” is present in the entered email address"
   ]
  },
  {
   "cell_type": "code",
   "execution_count": 51,
   "id": "e3afc209-a8a2-495b-8018-28d9f5b80464",
   "metadata": {},
   "outputs": [
    {
     "name": "stdin",
     "output_type": "stream",
     "text": [
      "Enter your email address:  kunal512@gmail.com\n"
     ]
    },
    {
     "name": "stdout",
     "output_type": "stream",
     "text": [
      "The email address contains '.com'\n"
     ]
    }
   ],
   "source": [
    "email = input(\"Enter your email address: \")\n",
    "if \".com\" in email:\n",
    "    print(\"The email address contains '.com'\")\n",
    "else:\n",
    "    print(\"The email address does not contain '.com'\")\n"
   ]
  },
  {
   "cell_type": "markdown",
   "id": "4b6becb4-5b01-42d6-ad0f-4b1d13f4770e",
   "metadata": {},
   "source": [
    "## Search for mutual friends in two friend lists"
   ]
  },
  {
   "cell_type": "code",
   "execution_count": 54,
   "id": "502319f7-e3b2-4138-9217-d9ba6f520ce7",
   "metadata": {},
   "outputs": [
    {
     "name": "stdout",
     "output_type": "stream",
     "text": [
      "Mutual friends: ['jenny', 'lucy']\n"
     ]
    }
   ],
   "source": [
    "friend_list1 = [\"mehul\", \"Radhika\", \"jenny\", \"lucy\", \"Ramesh\", \"suresh\"]\n",
    "friend_list2 = [\"joy\", \"kate\", \"kelvin\", \"carol\", \"jenny\", \"lucy\"]\n",
    "\n",
    "mutual_friends = list(set(friend_list1) & set(friend_list2))\n",
    "if mutual_friends:\n",
    "    print(\"Mutual friends:\", mutual_friends)\n",
    "else:\n",
    "    print(\"No mutual friends\")\n"
   ]
  },
  {
   "cell_type": "code",
   "execution_count": null,
   "id": "07604cfd-c88e-4d64-9afa-ccb0bb77e586",
   "metadata": {},
   "outputs": [],
   "source": []
  }
 ],
 "metadata": {
  "kernelspec": {
   "display_name": "Python 3 (ipykernel)",
   "language": "python",
   "name": "python3"
  },
  "language_info": {
   "codemirror_mode": {
    "name": "ipython",
    "version": 3
   },
   "file_extension": ".py",
   "mimetype": "text/x-python",
   "name": "python",
   "nbconvert_exporter": "python",
   "pygments_lexer": "ipython3",
   "version": "3.12.4"
  }
 },
 "nbformat": 4,
 "nbformat_minor": 5
}
