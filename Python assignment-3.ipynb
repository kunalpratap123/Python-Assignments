{
 "cells": [
  {
   "cell_type": "markdown",
   "id": "084e13ec-bb50-4cd2-be34-804a2fea4dcd",
   "metadata": {},
   "source": [
    "## 1. Compute the GCD of two positive integers\n",
    "Using for loop:"
   ]
  },
  {
   "cell_type": "code",
   "execution_count": 3,
   "id": "47a16e80-4ac7-4757-ae96-7c7156e33588",
   "metadata": {},
   "outputs": [
    {
     "name": "stdin",
     "output_type": "stream",
     "text": [
      "Enter the first number:  12\n",
      "Enter the second number:  14\n"
     ]
    },
    {
     "name": "stdout",
     "output_type": "stream",
     "text": [
      "GCD of 12 and 14 is 2\n"
     ]
    }
   ],
   "source": [
    "a = int(input(\"Enter the first number: \"))\n",
    "b = int(input(\"Enter the second number: \"))\n",
    "\n",
    "gcd = 1\n",
    "for i in range(1, min(a, b) + 1):\n",
    "    if a % i == 0 and b % i == 0:\n",
    "        gcd = i\n",
    "print(f\"GCD of {a} and {b} is {gcd}\")\n"
   ]
  },
  {
   "cell_type": "markdown",
   "id": "30ba294d-b7f4-4a54-84cc-3bacf274cb3d",
   "metadata": {},
   "source": [
    "## Using while loop:"
   ]
  },
  {
   "cell_type": "code",
   "execution_count": 7,
   "id": "8fd949f9-7831-4979-a2e7-c635b24cd52d",
   "metadata": {},
   "outputs": [
    {
     "name": "stdin",
     "output_type": "stream",
     "text": [
      "Enter the first number:  6\n",
      "Enter the second number:  3\n"
     ]
    },
    {
     "name": "stdout",
     "output_type": "stream",
     "text": [
      "GCD is 3\n"
     ]
    }
   ],
   "source": [
    "a = int(input(\"Enter the first number: \"))\n",
    "b = int(input(\"Enter the second number: \"))\n",
    "\n",
    "while b:\n",
    "    a, b = b, a % b\n",
    "print(f\"GCD is {a}\")\n"
   ]
  },
  {
   "cell_type": "markdown",
   "id": "9913ddde-9d44-4357-956e-c25cec27e1d0",
   "metadata": {},
   "source": [
    "## 2. Find the LCM of two positive integers\n",
    "Using for loop:"
   ]
  },
  {
   "cell_type": "code",
   "execution_count": 10,
   "id": "c2e08d8c-ea73-4150-8228-b3ad6cad08da",
   "metadata": {},
   "outputs": [
    {
     "name": "stdin",
     "output_type": "stream",
     "text": [
      "Enter the first number:  18\n",
      "Enter the second number:  9\n"
     ]
    },
    {
     "name": "stdout",
     "output_type": "stream",
     "text": [
      "LCM of 18 and 9 is 18\n"
     ]
    }
   ],
   "source": [
    "a = int(input(\"Enter the first number: \"))\n",
    "b = int(input(\"Enter the second number: \"))\n",
    "\n",
    "for i in range(max(a, b), (a * b) + 1):\n",
    "    if i % a == 0 and i % b == 0:\n",
    "        lcm = i\n",
    "        break\n",
    "print(f\"LCM of {a} and {b} is {lcm}\")\n"
   ]
  },
  {
   "cell_type": "markdown",
   "id": "a84580ff-51e7-4afb-a26c-8b24f4ba9900",
   "metadata": {},
   "source": [
    "## Using while loop:"
   ]
  },
  {
   "cell_type": "code",
   "execution_count": 13,
   "id": "74acaccc-9045-42b4-9777-40b505a0ddf5",
   "metadata": {},
   "outputs": [
    {
     "name": "stdin",
     "output_type": "stream",
     "text": [
      "Enter the first number:  45\n",
      "Enter the second number:  27\n"
     ]
    },
    {
     "name": "stdout",
     "output_type": "stream",
     "text": [
      "LCM is 135\n"
     ]
    }
   ],
   "source": [
    "a = int(input(\"Enter the first number: \"))\n",
    "b = int(input(\"Enter the second number: \"))\n",
    "\n",
    "lcm = max(a, b)\n",
    "while lcm % a != 0 or lcm % b != 0:\n",
    "    lcm += 1\n",
    "print(f\"LCM is {lcm}\")\n"
   ]
  },
  {
   "cell_type": "markdown",
   "id": "bb3e327f-12e9-46c2-a49c-dbf2e9f5ff05",
   "metadata": {},
   "source": [
    "## 3. Calculate sum of numbers from 1 to n\n",
    "Using for loop:\n"
   ]
  },
  {
   "cell_type": "code",
   "execution_count": 16,
   "id": "f3e867d2-5cf1-48ae-8371-6bc6ef2dfc5e",
   "metadata": {},
   "outputs": [
    {
     "name": "stdin",
     "output_type": "stream",
     "text": [
      "Enter n:  6\n"
     ]
    },
    {
     "name": "stdout",
     "output_type": "stream",
     "text": [
      "Sum from 1 to 6 is 21\n"
     ]
    }
   ],
   "source": [
    "n = int(input(\"Enter n: \"))\n",
    "sum_numbers = 0\n",
    "for i in range(1, n + 1):\n",
    "    sum_numbers += i\n",
    "print(f\"Sum from 1 to {n} is {sum_numbers}\")\n"
   ]
  },
  {
   "cell_type": "markdown",
   "id": "de4e5d0b-901d-479d-bc20-099b8a719f0c",
   "metadata": {},
   "source": [
    "## Using while loop:\n"
   ]
  },
  {
   "cell_type": "code",
   "execution_count": 19,
   "id": "6d134173-5338-4de0-8540-8b93334bf765",
   "metadata": {},
   "outputs": [
    {
     "name": "stdin",
     "output_type": "stream",
     "text": [
      "Enter n:  8\n"
     ]
    },
    {
     "name": "stdout",
     "output_type": "stream",
     "text": [
      "Sum from 1 to 8 is 36\n"
     ]
    }
   ],
   "source": [
    "n = int(input(\"Enter n: \"))\n",
    "sum_numbers = 0\n",
    "i = 1\n",
    "while i <= n:\n",
    "    sum_numbers += i\n",
    "    i += 1\n",
    "print(f\"Sum from 1 to {n} is {sum_numbers}\")\n"
   ]
  },
  {
   "cell_type": "markdown",
   "id": "3f41e0b9-eee9-4e9b-82ad-beb33848be59",
   "metadata": {},
   "source": [
    "## 4. Display numbers -10 to -1\n",
    "Using for loop:"
   ]
  },
  {
   "cell_type": "code",
   "execution_count": 22,
   "id": "cc13c3a4-a717-4e84-af77-4c4d525cf04c",
   "metadata": {},
   "outputs": [
    {
     "name": "stdout",
     "output_type": "stream",
     "text": [
      "-10 -9 -8 -7 -6 -5 -4 -3 -2 -1 "
     ]
    }
   ],
   "source": [
    "for i in range(-10, 0):\n",
    "    print(i, end=\" \")\n"
   ]
  },
  {
   "cell_type": "markdown",
   "id": "fe72bcc9-e4d4-493b-8c63-3fb2cb3b072f",
   "metadata": {},
   "source": [
    "## Using while loop:"
   ]
  },
  {
   "cell_type": "code",
   "execution_count": 25,
   "id": "fe33a05c-a590-41a4-a8e5-a3a2ff70f8db",
   "metadata": {},
   "outputs": [
    {
     "name": "stdout",
     "output_type": "stream",
     "text": [
      "-10 -9 -8 -7 -6 -5 -4 -3 -2 -1 "
     ]
    }
   ],
   "source": [
    "i = -10\n",
    "while i < 0:\n",
    "    print(i, end=\" \")\n",
    "    i += 1\n"
   ]
  },
  {
   "cell_type": "markdown",
   "id": "2b93977b-1fc8-4605-8fb8-534876e8de1d",
   "metadata": {},
   "source": [
    "## 5. Generate prime numbers from 1 to N and between two numbers\n",
    "Using for loop:"
   ]
  },
  {
   "cell_type": "code",
   "execution_count": 28,
   "id": "9e302e69-8070-47cc-b177-310d405faad2",
   "metadata": {},
   "outputs": [
    {
     "name": "stdin",
     "output_type": "stream",
     "text": [
      "Enter the value of N:  24\n"
     ]
    },
    {
     "name": "stdout",
     "output_type": "stream",
     "text": [
      "2 3 5 7 11 13 17 19 23 "
     ]
    }
   ],
   "source": [
    "n = int(input(\"Enter the value of N: \"))\n",
    "for num in range(2, n + 1):\n",
    "    for i in range(2, int(num ** 0.5) + 1):\n",
    "        if num % i == 0:\n",
    "            break\n",
    "    else:\n",
    "        print(num, end=\" \")\n"
   ]
  },
  {
   "cell_type": "markdown",
   "id": "81723744-c5f5-41b9-8e27-e3776400009b",
   "metadata": {},
   "source": [
    "## Using while loop:\n"
   ]
  },
  {
   "cell_type": "code",
   "execution_count": 31,
   "id": "4bdedaee-7012-4874-b07d-2e6527e353bb",
   "metadata": {},
   "outputs": [
    {
     "name": "stdin",
     "output_type": "stream",
     "text": [
      "Enter the value of N:  54\n"
     ]
    },
    {
     "name": "stdout",
     "output_type": "stream",
     "text": [
      "2 3 5 7 11 13 17 19 23 29 31 37 41 43 47 53 "
     ]
    }
   ],
   "source": [
    "n = int(input(\"Enter the value of N: \"))\n",
    "num = 2\n",
    "while num <= n:\n",
    "    is_prime = True\n",
    "    i = 2\n",
    "    while i <= int(num ** 0.5):\n",
    "        if num % i == 0:\n",
    "            is_prime = False\n",
    "            break\n",
    "        i += 1\n",
    "    if is_prime:\n",
    "        print(num, end=\" \")\n",
    "    num += 1\n"
   ]
  },
  {
   "cell_type": "markdown",
   "id": "3500ccea-a4c1-494e-b14e-25a1d66c73ff",
   "metadata": {},
   "source": [
    "## 6. Remove items greater than 50 from a list\n",
    "Using for loop:\n"
   ]
  },
  {
   "cell_type": "code",
   "execution_count": 34,
   "id": "1ead8a41-e974-4cf0-90c6-6178c933198c",
   "metadata": {},
   "outputs": [
    {
     "name": "stdout",
     "output_type": "stream",
     "text": [
      "[0, 1, 2, 3, 4, 5, 6, 7, 8, 9, 10, 11, 12, 13, 14, 15, 16, 17, 18, 19, 20, 21, 22, 23, 24, 25, 26, 27, 28, 29, 30, 31, 32, 33, 34, 35, 36, 37, 38, 39, 40, 41, 42, 43, 44, 45, 46, 47, 48, 49, 50]\n"
     ]
    }
   ],
   "source": [
    "numbers = list(range(101))\n",
    "filtered = [x for x in numbers if x <= 50]\n",
    "print(filtered)\n"
   ]
  },
  {
   "cell_type": "markdown",
   "id": "53f4cb0e-5ae7-4da4-b6f8-9fa41f60c822",
   "metadata": {},
   "source": [
    "## Using while loop:"
   ]
  },
  {
   "cell_type": "code",
   "execution_count": 37,
   "id": "d730c1aa-2f60-4576-b81c-abf6c872c134",
   "metadata": {},
   "outputs": [
    {
     "name": "stdout",
     "output_type": "stream",
     "text": [
      "[0, 1, 2, 3, 4, 5, 6, 7, 8, 9, 10, 11, 12, 13, 14, 15, 16, 17, 18, 19, 20, 21, 22, 23, 24, 25, 26, 27, 28, 29, 30, 31, 32, 33, 34, 35, 36, 37, 38, 39, 40, 41, 42, 43, 44, 45, 46, 47, 48, 49, 50]\n"
     ]
    }
   ],
   "source": [
    "numbers = list(range(101))\n",
    "i = 0\n",
    "while i < len(numbers):\n",
    "    if numbers[i] > 50:\n",
    "        numbers.pop(i)\n",
    "    else:\n",
    "        i += 1\n",
    "print(numbers)\n"
   ]
  },
  {
   "cell_type": "markdown",
   "id": "8ba1cc26-c0c6-42ae-a592-4c4719361c45",
   "metadata": {},
   "source": [
    "## 7. Generate a Fibonacci series up to the nth term\n",
    "Using for loop:"
   ]
  },
  {
   "cell_type": "code",
   "execution_count": 42,
   "id": "0598ef28-46d5-4946-9822-079755c6614f",
   "metadata": {},
   "outputs": [
    {
     "name": "stdin",
     "output_type": "stream",
     "text": [
      "Enter the number of terms:  25\n"
     ]
    },
    {
     "name": "stdout",
     "output_type": "stream",
     "text": [
      "0 1 1 2 3 5 8 13 21 34 55 89 144 233 377 610 987 1597 2584 4181 6765 10946 17711 28657 46368 "
     ]
    }
   ],
   "source": [
    "n = int(input(\"Enter the number of terms: \"))\n",
    "a, b = 0, 1\n",
    "for _ in range(n):\n",
    "    print(a, end=\" \")\n",
    "    a, b = b, a + b\n"
   ]
  },
  {
   "cell_type": "markdown",
   "id": "d1ec0f08-5885-4431-9adf-bd1fe481270e",
   "metadata": {},
   "source": [
    "## Using while loop:"
   ]
  },
  {
   "cell_type": "code",
   "execution_count": 45,
   "id": "37c8672d-f73b-4358-b262-30ed93e02997",
   "metadata": {},
   "outputs": [
    {
     "name": "stdin",
     "output_type": "stream",
     "text": [
      "Enter the number of terms:  46\n"
     ]
    },
    {
     "name": "stdout",
     "output_type": "stream",
     "text": [
      "0 1 1 2 3 5 8 13 21 34 55 89 144 233 377 610 987 1597 2584 4181 6765 10946 17711 28657 46368 75025 121393 196418 317811 514229 832040 1346269 2178309 3524578 5702887 9227465 14930352 24157817 39088169 63245986 102334155 165580141 267914296 433494437 701408733 1134903170 "
     ]
    }
   ],
   "source": [
    "n = int(input(\"Enter the number of terms: \"))\n",
    "a, b, count = 0, 1, 0\n",
    "while count < n:\n",
    "    print(a, end=\" \")\n",
    "    a, b = b, a + b\n",
    "    count += 1\n"
   ]
  },
  {
   "cell_type": "markdown",
   "id": "e9f387a9-1138-498e-9e30-1ef1ace8b628",
   "metadata": {},
   "source": [
    "## 8. Count occurrences of each character in a string\n",
    "Using for loop:"
   ]
  },
  {
   "cell_type": "code",
   "execution_count": 50,
   "id": "af592a59-fee7-4afa-b05c-c3f8728cc668",
   "metadata": {},
   "outputs": [
    {
     "name": "stdin",
     "output_type": "stream",
     "text": [
      "Enter a string:  kunal\n"
     ]
    },
    {
     "name": "stdout",
     "output_type": "stream",
     "text": [
      "{'k': 1, 'u': 1, 'n': 1, 'a': 1, 'l': 1}\n"
     ]
    }
   ],
   "source": [
    "string = input(\"Enter a string: \")\n",
    "counts = {}\n",
    "for char in string:\n",
    "    counts[char] = counts.get(char, 0) + 1\n",
    "print(counts)\n"
   ]
  },
  {
   "cell_type": "markdown",
   "id": "7c6f321a-43e7-4252-9423-44708c22140b",
   "metadata": {},
   "source": [
    "## 9. Check validity of a password\n",
    "Criteria: Minimum 8 characters, at least one number, one uppercase, and one lowercase."
   ]
  },
  {
   "cell_type": "code",
   "execution_count": 53,
   "id": "fd032ed1-e79a-4d0b-b7ed-1cffc30b94dd",
   "metadata": {},
   "outputs": [
    {
     "name": "stdin",
     "output_type": "stream",
     "text": [
      "Enter a password:  kunal@123\n"
     ]
    },
    {
     "name": "stdout",
     "output_type": "stream",
     "text": [
      "Password is invalid\n"
     ]
    }
   ],
   "source": [
    "password = input(\"Enter a password: \")\n",
    "\n",
    "if (len(password) >= 8 and\n",
    "    any(char.isdigit() for char in password) and\n",
    "    any(char.islower() for char in password) and\n",
    "    any(char.isupper() for char in password)):\n",
    "    print(\"Password is valid\")\n",
    "else:\n",
    "    print(\"Password is invalid\")\n"
   ]
  },
  {
   "cell_type": "markdown",
   "id": "ca2def6a-9df9-42f9-a9e1-27b04d410f5b",
   "metadata": {},
   "source": [
    "## 10. Find common elements in two lists using a for loop"
   ]
  },
  {
   "cell_type": "code",
   "execution_count": 60,
   "id": "bb0a4b5f-7d23-4a39-a2cf-6702e05b11ed",
   "metadata": {},
   "outputs": [
    {
     "name": "stdout",
     "output_type": "stream",
     "text": [
      "Common elements: [3, 4, 5]\n"
     ]
    }
   ],
   "source": [
    "list1 = [1, 2, 3, 4, 5]\n",
    "list2 = [3, 4, 5, 6, 7]\n",
    "\n",
    "common = []\n",
    "for item in list1:\n",
    "    if item in list2:\n",
    "        common.append(item)\n",
    "print(f\"Common elements: {common}\")\n"
   ]
  },
  {
   "cell_type": "code",
   "execution_count": null,
   "id": "6fdf5011-ada2-4e6e-9b98-69d4e72c961a",
   "metadata": {},
   "outputs": [],
   "source": []
  }
 ],
 "metadata": {
  "kernelspec": {
   "display_name": "Python 3 (ipykernel)",
   "language": "python",
   "name": "python3"
  },
  "language_info": {
   "codemirror_mode": {
    "name": "ipython",
    "version": 3
   },
   "file_extension": ".py",
   "mimetype": "text/x-python",
   "name": "python",
   "nbconvert_exporter": "python",
   "pygments_lexer": "ipython3",
   "version": "3.12.4"
  }
 },
 "nbformat": 4,
 "nbformat_minor": 5
}
